{
  "nbformat": 4,
  "nbformat_minor": 0,
  "metadata": {
    "colab": {
      "provenance": []
    },
    "kernelspec": {
      "name": "python3",
      "display_name": "Python 3"
    },
    "language_info": {
      "name": "python"
    }
  },
  "cells": [
    {
      "cell_type": "code",
      "execution_count": 2,
      "metadata": {
        "id": "bQyWRc_VtQJo"
      },
      "outputs": [],
      "source": [
        "import numpy as np\n",
        "import pandas as pd\n",
        "import matplotlib.pyplot as plt\n",
        "from sklearn.model_selection import train_test_split\n",
        "from sklearn.preprocessing import StandardScaler\n",
        "from pickle import dump\n",
        "import tensorflow as tf\n",
        "from google.colab import files\n",
        "import io\n",
        "from tensorflow.keras.models import Sequential, model_from_json"
      ]
    },
    {
      "cell_type": "code",
      "source": [
        "def trainDataSet():\n",
        "    uploaded = files.upload()\n",
        "    df = pd.read_excel(io.BytesIO(uploaded['1_train.xls']))\n",
        "    try:\n",
        "        df.rename({\"Unnamed: 0\":\"a\"}, axis=\"columns\", inplace=True)\n",
        "        df.drop([\"a\"], axis=1, inplace=True)\n",
        "        #df = df.drop([0], axis=0, inplace=False)\n",
        "        df.duplicated().sum()\n",
        "        df = df.drop_duplicates()\n",
        "    except:\n",
        "        df = df\n",
        "    \n",
        "    arr = df.to_numpy()\n",
        "    X = arr[:, 0:-1]\n",
        "    Y = arr[:,-1]\n",
        "    X_train, X_test, Y_train, Y_test = train_test_split(X, Y, random_state=42)\n",
        "    scaler = StandardScaler()\n",
        "    scaler.fit(X_train)\n",
        "    X_train=scaler.transform(X_train)\n",
        "    X_test=scaler.transform(X_test)\n",
        "\n",
        "    dump(scaler, open('scaler.pkl', 'wb'))\n",
        "    return (X_train, X_test, Y_train, Y_test, scaler)"
      ],
      "metadata": {
        "id": "wbk2RMzPtX09"
      },
      "execution_count": 40,
      "outputs": []
    },
    {
      "cell_type": "code",
      "source": [
        "#(X_train, X_test, Y_train, Y_test, scaler) = trainDataSet()"
      ],
      "metadata": {
        "id": "IVBIQUW3ld4x"
      },
      "execution_count": 41,
      "outputs": []
    },
    {
      "cell_type": "code",
      "source": [
        "df = pd.read_csv('/content/1.csv')"
      ],
      "metadata": {
        "id": "-_sqm6nruSCM"
      },
      "execution_count": 3,
      "outputs": []
    },
    {
      "cell_type": "code",
      "source": [
        "df.rename({\"Unnamed: 0\":\"a\"}, axis=\"columns\", inplace=True)\n",
        "df.drop([\"a\"], axis=1, inplace=True)"
      ],
      "metadata": {
        "id": "mT8gvwP5vKZf"
      },
      "execution_count": 4,
      "outputs": []
    },
    {
      "cell_type": "code",
      "source": [
        "df"
      ],
      "metadata": {
        "colab": {
          "base_uri": "https://localhost:8080/",
          "height": 411
        },
        "id": "h_bvzVueyEXi",
        "outputId": "36dc9cc7-42c3-40b3-f81c-e6691b00d8d1"
      },
      "execution_count": 5,
      "outputs": [
        {
          "output_type": "execute_result",
          "data": {
            "text/plain": [
              "           X1  X2  X3  X4  X5  X6     X12    X18  Y\n",
              "0       20000   2   2   1  24   2    3913      0  1\n",
              "1      120000   2   2   2  26  -1    2682      0  1\n",
              "2       90000   2   2   2  34   0   29239   1518  0\n",
              "3       50000   2   2   1  37   0   46990   2000  0\n",
              "4       50000   1   2   1  57  -1    8617   2000  0\n",
              "...       ...  ..  ..  ..  ..  ..     ...    ... ..\n",
              "29995  220000   1   3   1  39   0  188948   8500  0\n",
              "29996  150000   1   3   2  43  -1    1683   1837  0\n",
              "29997   30000   1   2   2  37   4    3565      0  1\n",
              "29998   80000   1   3   1  41   1   -1645  85900  1\n",
              "29999   50000   1   2   1  46   0   47929   2078  1\n",
              "\n",
              "[30000 rows x 9 columns]"
            ],
            "text/html": [
              "\n",
              "  <div id=\"df-3cb124e8-badd-4568-8fd2-dc30809dc05c\">\n",
              "    <div class=\"colab-df-container\">\n",
              "      <div>\n",
              "<style scoped>\n",
              "    .dataframe tbody tr th:only-of-type {\n",
              "        vertical-align: middle;\n",
              "    }\n",
              "\n",
              "    .dataframe tbody tr th {\n",
              "        vertical-align: top;\n",
              "    }\n",
              "\n",
              "    .dataframe thead th {\n",
              "        text-align: right;\n",
              "    }\n",
              "</style>\n",
              "<table border=\"1\" class=\"dataframe\">\n",
              "  <thead>\n",
              "    <tr style=\"text-align: right;\">\n",
              "      <th></th>\n",
              "      <th>X1</th>\n",
              "      <th>X2</th>\n",
              "      <th>X3</th>\n",
              "      <th>X4</th>\n",
              "      <th>X5</th>\n",
              "      <th>X6</th>\n",
              "      <th>X12</th>\n",
              "      <th>X18</th>\n",
              "      <th>Y</th>\n",
              "    </tr>\n",
              "  </thead>\n",
              "  <tbody>\n",
              "    <tr>\n",
              "      <th>0</th>\n",
              "      <td>20000</td>\n",
              "      <td>2</td>\n",
              "      <td>2</td>\n",
              "      <td>1</td>\n",
              "      <td>24</td>\n",
              "      <td>2</td>\n",
              "      <td>3913</td>\n",
              "      <td>0</td>\n",
              "      <td>1</td>\n",
              "    </tr>\n",
              "    <tr>\n",
              "      <th>1</th>\n",
              "      <td>120000</td>\n",
              "      <td>2</td>\n",
              "      <td>2</td>\n",
              "      <td>2</td>\n",
              "      <td>26</td>\n",
              "      <td>-1</td>\n",
              "      <td>2682</td>\n",
              "      <td>0</td>\n",
              "      <td>1</td>\n",
              "    </tr>\n",
              "    <tr>\n",
              "      <th>2</th>\n",
              "      <td>90000</td>\n",
              "      <td>2</td>\n",
              "      <td>2</td>\n",
              "      <td>2</td>\n",
              "      <td>34</td>\n",
              "      <td>0</td>\n",
              "      <td>29239</td>\n",
              "      <td>1518</td>\n",
              "      <td>0</td>\n",
              "    </tr>\n",
              "    <tr>\n",
              "      <th>3</th>\n",
              "      <td>50000</td>\n",
              "      <td>2</td>\n",
              "      <td>2</td>\n",
              "      <td>1</td>\n",
              "      <td>37</td>\n",
              "      <td>0</td>\n",
              "      <td>46990</td>\n",
              "      <td>2000</td>\n",
              "      <td>0</td>\n",
              "    </tr>\n",
              "    <tr>\n",
              "      <th>4</th>\n",
              "      <td>50000</td>\n",
              "      <td>1</td>\n",
              "      <td>2</td>\n",
              "      <td>1</td>\n",
              "      <td>57</td>\n",
              "      <td>-1</td>\n",
              "      <td>8617</td>\n",
              "      <td>2000</td>\n",
              "      <td>0</td>\n",
              "    </tr>\n",
              "    <tr>\n",
              "      <th>...</th>\n",
              "      <td>...</td>\n",
              "      <td>...</td>\n",
              "      <td>...</td>\n",
              "      <td>...</td>\n",
              "      <td>...</td>\n",
              "      <td>...</td>\n",
              "      <td>...</td>\n",
              "      <td>...</td>\n",
              "      <td>...</td>\n",
              "    </tr>\n",
              "    <tr>\n",
              "      <th>29995</th>\n",
              "      <td>220000</td>\n",
              "      <td>1</td>\n",
              "      <td>3</td>\n",
              "      <td>1</td>\n",
              "      <td>39</td>\n",
              "      <td>0</td>\n",
              "      <td>188948</td>\n",
              "      <td>8500</td>\n",
              "      <td>0</td>\n",
              "    </tr>\n",
              "    <tr>\n",
              "      <th>29996</th>\n",
              "      <td>150000</td>\n",
              "      <td>1</td>\n",
              "      <td>3</td>\n",
              "      <td>2</td>\n",
              "      <td>43</td>\n",
              "      <td>-1</td>\n",
              "      <td>1683</td>\n",
              "      <td>1837</td>\n",
              "      <td>0</td>\n",
              "    </tr>\n",
              "    <tr>\n",
              "      <th>29997</th>\n",
              "      <td>30000</td>\n",
              "      <td>1</td>\n",
              "      <td>2</td>\n",
              "      <td>2</td>\n",
              "      <td>37</td>\n",
              "      <td>4</td>\n",
              "      <td>3565</td>\n",
              "      <td>0</td>\n",
              "      <td>1</td>\n",
              "    </tr>\n",
              "    <tr>\n",
              "      <th>29998</th>\n",
              "      <td>80000</td>\n",
              "      <td>1</td>\n",
              "      <td>3</td>\n",
              "      <td>1</td>\n",
              "      <td>41</td>\n",
              "      <td>1</td>\n",
              "      <td>-1645</td>\n",
              "      <td>85900</td>\n",
              "      <td>1</td>\n",
              "    </tr>\n",
              "    <tr>\n",
              "      <th>29999</th>\n",
              "      <td>50000</td>\n",
              "      <td>1</td>\n",
              "      <td>2</td>\n",
              "      <td>1</td>\n",
              "      <td>46</td>\n",
              "      <td>0</td>\n",
              "      <td>47929</td>\n",
              "      <td>2078</td>\n",
              "      <td>1</td>\n",
              "    </tr>\n",
              "  </tbody>\n",
              "</table>\n",
              "<p>30000 rows × 9 columns</p>\n",
              "</div>\n",
              "      <button class=\"colab-df-convert\" onclick=\"convertToInteractive('df-3cb124e8-badd-4568-8fd2-dc30809dc05c')\"\n",
              "              title=\"Convert this dataframe to an interactive table.\"\n",
              "              style=\"display:none;\">\n",
              "        \n",
              "  <svg xmlns=\"http://www.w3.org/2000/svg\" height=\"24px\"viewBox=\"0 0 24 24\"\n",
              "       width=\"24px\">\n",
              "    <path d=\"M0 0h24v24H0V0z\" fill=\"none\"/>\n",
              "    <path d=\"M18.56 5.44l.94 2.06.94-2.06 2.06-.94-2.06-.94-.94-2.06-.94 2.06-2.06.94zm-11 1L8.5 8.5l.94-2.06 2.06-.94-2.06-.94L8.5 2.5l-.94 2.06-2.06.94zm10 10l.94 2.06.94-2.06 2.06-.94-2.06-.94-.94-2.06-.94 2.06-2.06.94z\"/><path d=\"M17.41 7.96l-1.37-1.37c-.4-.4-.92-.59-1.43-.59-.52 0-1.04.2-1.43.59L10.3 9.45l-7.72 7.72c-.78.78-.78 2.05 0 2.83L4 21.41c.39.39.9.59 1.41.59.51 0 1.02-.2 1.41-.59l7.78-7.78 2.81-2.81c.8-.78.8-2.07 0-2.86zM5.41 20L4 18.59l7.72-7.72 1.47 1.35L5.41 20z\"/>\n",
              "  </svg>\n",
              "      </button>\n",
              "      \n",
              "  <style>\n",
              "    .colab-df-container {\n",
              "      display:flex;\n",
              "      flex-wrap:wrap;\n",
              "      gap: 12px;\n",
              "    }\n",
              "\n",
              "    .colab-df-convert {\n",
              "      background-color: #E8F0FE;\n",
              "      border: none;\n",
              "      border-radius: 50%;\n",
              "      cursor: pointer;\n",
              "      display: none;\n",
              "      fill: #1967D2;\n",
              "      height: 32px;\n",
              "      padding: 0 0 0 0;\n",
              "      width: 32px;\n",
              "    }\n",
              "\n",
              "    .colab-df-convert:hover {\n",
              "      background-color: #E2EBFA;\n",
              "      box-shadow: 0px 1px 2px rgba(60, 64, 67, 0.3), 0px 1px 3px 1px rgba(60, 64, 67, 0.15);\n",
              "      fill: #174EA6;\n",
              "    }\n",
              "\n",
              "    [theme=dark] .colab-df-convert {\n",
              "      background-color: #3B4455;\n",
              "      fill: #D2E3FC;\n",
              "    }\n",
              "\n",
              "    [theme=dark] .colab-df-convert:hover {\n",
              "      background-color: #434B5C;\n",
              "      box-shadow: 0px 1px 3px 1px rgba(0, 0, 0, 0.15);\n",
              "      filter: drop-shadow(0px 1px 2px rgba(0, 0, 0, 0.3));\n",
              "      fill: #FFFFFF;\n",
              "    }\n",
              "  </style>\n",
              "\n",
              "      <script>\n",
              "        const buttonEl =\n",
              "          document.querySelector('#df-3cb124e8-badd-4568-8fd2-dc30809dc05c button.colab-df-convert');\n",
              "        buttonEl.style.display =\n",
              "          google.colab.kernel.accessAllowed ? 'block' : 'none';\n",
              "\n",
              "        async function convertToInteractive(key) {\n",
              "          const element = document.querySelector('#df-3cb124e8-badd-4568-8fd2-dc30809dc05c');\n",
              "          const dataTable =\n",
              "            await google.colab.kernel.invokeFunction('convertToInteractive',\n",
              "                                                     [key], {});\n",
              "          if (!dataTable) return;\n",
              "\n",
              "          const docLinkHtml = 'Like what you see? Visit the ' +\n",
              "            '<a target=\"_blank\" href=https://colab.research.google.com/notebooks/data_table.ipynb>data table notebook</a>'\n",
              "            + ' to learn more about interactive tables.';\n",
              "          element.innerHTML = '';\n",
              "          dataTable['output_type'] = 'display_data';\n",
              "          await google.colab.output.renderOutput(dataTable, element);\n",
              "          const docLink = document.createElement('div');\n",
              "          docLink.innerHTML = docLinkHtml;\n",
              "          element.appendChild(docLink);\n",
              "        }\n",
              "      </script>\n",
              "    </div>\n",
              "  </div>\n",
              "  "
            ]
          },
          "metadata": {},
          "execution_count": 5
        }
      ]
    },
    {
      "cell_type": "code",
      "source": [
        "arr = df.to_numpy()\n",
        "X = arr[:, 0:-1]\n",
        "Y = arr[:,-1]\n",
        "X_train, X_test, Y_train, Y_test = train_test_split(X, Y, random_state=42)\n",
        "scaler = StandardScaler()\n",
        "scaler.fit(X_train)\n",
        "X_train=scaler.transform(X_train)\n",
        "X_test=scaler.transform(X_test)\n",
        "\n",
        "dump(scaler, open('scaler.pkl', 'wb'))"
      ],
      "metadata": {
        "id": "UyTvFoZQyE6K"
      },
      "execution_count": 6,
      "outputs": []
    },
    {
      "cell_type": "code",
      "source": [
        "X_train = tf.convert_to_tensor(X_train, dtype=tf.float64)\n",
        "Y_train = tf.convert_to_tensor(Y_train, dtype=tf.float64)\n",
        "X_test = tf.convert_to_tensor(X_test, dtype=tf.float64)\n",
        "Y_test = tf.convert_to_tensor(Y_test, dtype=tf.float64)"
      ],
      "metadata": {
        "id": "wHocf43GySuT"
      },
      "execution_count": 7,
      "outputs": []
    },
    {
      "cell_type": "code",
      "source": [
        "from imblearn.over_sampling import SMOTE\n",
        "smt = SMOTE()\n",
        "X_train, Y_train = smt.fit_resample(X_train, Y_train)\n",
        "X_test, Y_test = smt.fit_resample(X_test, Y_test)"
      ],
      "metadata": {
        "id": "9u35g9t7yYCj"
      },
      "execution_count": 8,
      "outputs": []
    },
    {
      "cell_type": "code",
      "source": [
        "aclass_weights = { 0: 0.4, 1: 0.60}"
      ],
      "metadata": {
        "id": "zHrrZgCvycpX"
      },
      "execution_count": 9,
      "outputs": []
    },
    {
      "cell_type": "code",
      "source": [
        "from tensorflow import keras\n",
        "from tensorflow.keras import layers\n",
        "model = keras.Sequential(\n",
        "                        [keras.Input(shape=(8,)),\n",
        "                            layers.Dense(7, activation = \"sigmoid\"),\n",
        "                            layers.Dense(5, activation = \"sigmoid\"),\n",
        "                            layers.Dense(4, activation = \"sigmoid\"),\n",
        "                            layers.Dense(3, activation = \"sigmoid\"),\n",
        "                            layers.Dense(1, activation = \"sigmoid\", name = \"output\")])"
      ],
      "metadata": {
        "id": "23ANOcPQyi9p"
      },
      "execution_count": 19,
      "outputs": []
    },
    {
      "cell_type": "code",
      "source": [
        "model.compile(\n",
        "     optimizer=keras.optimizers.Adam(),\n",
        "     loss=keras.losses.BinaryCrossentropy(),\n",
        "     metrics=[keras.metrics.TruePositives(), keras.metrics.FalseNegatives(), keras.metrics.FalsePositives(), keras.metrics.TrueNegatives(), keras.metrics.Recall(), keras.metrics.Precision(), keras.metrics.BinaryAccuracy(), keras.metrics.AUC()])"
      ],
      "metadata": {
        "id": "OHpidu2ty4A0"
      },
      "execution_count": 20,
      "outputs": []
    },
    {
      "cell_type": "code",
      "source": [
        "history = model.fit(X_train, Y_train, epochs = 100 , class_weight = aclass_weights)"
      ],
      "metadata": {
        "colab": {
          "base_uri": "https://localhost:8080/"
        },
        "id": "ZwtfswOuzOtM",
        "outputId": "d88697d5-2d7f-4d28-b9b1-df6980d72b73"
      },
      "execution_count": 21,
      "outputs": [
        {
          "output_type": "stream",
          "name": "stdout",
          "text": [
            "Epoch 1/100\n",
            "1094/1094 [==============================] - 4s 2ms/step - loss: 0.3755 - true_positives_3: 7644.0000 - false_negatives_3: 9847.0000 - false_positives_3: 7906.0000 - true_negatives_3: 9585.0000 - recall_3: 0.4370 - precision_3: 0.4916 - binary_accuracy: 0.4925 - auc_3: 0.4958\n",
            "Epoch 2/100\n",
            "1094/1094 [==============================] - 3s 2ms/step - loss: 0.3364 - true_positives_3: 17491.0000 - false_negatives_3: 0.0000e+00 - false_positives_3: 17491.0000 - true_negatives_3: 0.0000e+00 - recall_3: 1.0000 - precision_3: 0.5000 - binary_accuracy: 0.5000 - auc_3: 0.5213\n",
            "Epoch 3/100\n",
            "1094/1094 [==============================] - 3s 3ms/step - loss: 0.3287 - true_positives_3: 17477.0000 - false_negatives_3: 14.0000 - false_positives_3: 17460.0000 - true_negatives_3: 31.0000 - recall_3: 0.9992 - precision_3: 0.5002 - binary_accuracy: 0.5005 - auc_3: 0.6898\n",
            "Epoch 4/100\n",
            "1094/1094 [==============================] - 3s 3ms/step - loss: 0.2988 - true_positives_3: 11264.0000 - false_negatives_3: 6227.0000 - false_positives_3: 5533.0000 - true_negatives_3: 11958.0000 - recall_3: 0.6440 - precision_3: 0.6706 - binary_accuracy: 0.6638 - auc_3: 0.7115\n",
            "Epoch 5/100\n",
            "1094/1094 [==============================] - 3s 2ms/step - loss: 0.2925 - true_positives_3: 10283.0000 - false_negatives_3: 7208.0000 - false_positives_3: 3935.0000 - true_negatives_3: 13556.0000 - recall_3: 0.5879 - precision_3: 0.7232 - binary_accuracy: 0.6815 - auc_3: 0.7148\n",
            "Epoch 6/100\n",
            "1094/1094 [==============================] - 3s 2ms/step - loss: 0.2912 - true_positives_3: 10178.0000 - false_negatives_3: 7313.0000 - false_positives_3: 3815.0000 - true_negatives_3: 13676.0000 - recall_3: 0.5819 - precision_3: 0.7274 - binary_accuracy: 0.6819 - auc_3: 0.7180\n",
            "Epoch 7/100\n",
            "1094/1094 [==============================] - 3s 2ms/step - loss: 0.2909 - true_positives_3: 10104.0000 - false_negatives_3: 7387.0000 - false_positives_3: 3715.0000 - true_negatives_3: 13776.0000 - recall_3: 0.5777 - precision_3: 0.7312 - binary_accuracy: 0.6826 - auc_3: 0.7160\n",
            "Epoch 8/100\n",
            "1094/1094 [==============================] - 4s 3ms/step - loss: 0.2906 - true_positives_3: 10204.0000 - false_negatives_3: 7287.0000 - false_positives_3: 3908.0000 - true_negatives_3: 13583.0000 - recall_3: 0.5834 - precision_3: 0.7231 - binary_accuracy: 0.6800 - auc_3: 0.7169\n",
            "Epoch 9/100\n",
            "1094/1094 [==============================] - 3s 2ms/step - loss: 0.2902 - true_positives_3: 10134.0000 - false_negatives_3: 7357.0000 - false_positives_3: 3764.0000 - true_negatives_3: 13727.0000 - recall_3: 0.5794 - precision_3: 0.7292 - binary_accuracy: 0.6821 - auc_3: 0.7180\n",
            "Epoch 10/100\n",
            "1094/1094 [==============================] - 2s 2ms/step - loss: 0.2899 - true_positives_3: 10213.0000 - false_negatives_3: 7278.0000 - false_positives_3: 3889.0000 - true_negatives_3: 13602.0000 - recall_3: 0.5839 - precision_3: 0.7242 - binary_accuracy: 0.6808 - auc_3: 0.7170\n",
            "Epoch 11/100\n",
            "1094/1094 [==============================] - 3s 2ms/step - loss: 0.2896 - true_positives_3: 10483.0000 - false_negatives_3: 7008.0000 - false_positives_3: 4205.0000 - true_negatives_3: 13286.0000 - recall_3: 0.5993 - precision_3: 0.7137 - binary_accuracy: 0.6795 - auc_3: 0.7179\n",
            "Epoch 12/100\n",
            "1094/1094 [==============================] - 3s 2ms/step - loss: 0.2894 - true_positives_3: 10778.0000 - false_negatives_3: 6713.0000 - false_positives_3: 4550.0000 - true_negatives_3: 12941.0000 - recall_3: 0.6162 - precision_3: 0.7032 - binary_accuracy: 0.6780 - auc_3: 0.7185\n",
            "Epoch 13/100\n",
            "1094/1094 [==============================] - 3s 3ms/step - loss: 0.2892 - true_positives_3: 10834.0000 - false_negatives_3: 6657.0000 - false_positives_3: 4603.0000 - true_negatives_3: 12888.0000 - recall_3: 0.6194 - precision_3: 0.7018 - binary_accuracy: 0.6781 - auc_3: 0.7191\n",
            "Epoch 14/100\n",
            "1094/1094 [==============================] - 3s 2ms/step - loss: 0.2890 - true_positives_3: 11004.0000 - false_negatives_3: 6487.0000 - false_positives_3: 4915.0000 - true_negatives_3: 12576.0000 - recall_3: 0.6291 - precision_3: 0.6912 - binary_accuracy: 0.6741 - auc_3: 0.7210\n",
            "Epoch 15/100\n",
            "1094/1094 [==============================] - 3s 2ms/step - loss: 0.2889 - true_positives_3: 11083.0000 - false_negatives_3: 6408.0000 - false_positives_3: 5002.0000 - true_negatives_3: 12489.0000 - recall_3: 0.6336 - precision_3: 0.6890 - binary_accuracy: 0.6738 - auc_3: 0.7217\n",
            "Epoch 16/100\n",
            "1094/1094 [==============================] - 3s 2ms/step - loss: 0.2887 - true_positives_3: 11119.0000 - false_negatives_3: 6372.0000 - false_positives_3: 5051.0000 - true_negatives_3: 12440.0000 - recall_3: 0.6357 - precision_3: 0.6876 - binary_accuracy: 0.6735 - auc_3: 0.7235\n",
            "Epoch 17/100\n",
            "1094/1094 [==============================] - 3s 3ms/step - loss: 0.2886 - true_positives_3: 11179.0000 - false_negatives_3: 6312.0000 - false_positives_3: 5167.0000 - true_negatives_3: 12324.0000 - recall_3: 0.6391 - precision_3: 0.6839 - binary_accuracy: 0.6719 - auc_3: 0.7254\n",
            "Epoch 18/100\n",
            "1094/1094 [==============================] - 3s 3ms/step - loss: 0.2884 - true_positives_3: 11230.0000 - false_negatives_3: 6261.0000 - false_positives_3: 5206.0000 - true_negatives_3: 12285.0000 - recall_3: 0.6420 - precision_3: 0.6833 - binary_accuracy: 0.6722 - auc_3: 0.7271\n",
            "Epoch 19/100\n",
            "1094/1094 [==============================] - 3s 2ms/step - loss: 0.2881 - true_positives_3: 11290.0000 - false_negatives_3: 6201.0000 - false_positives_3: 5324.0000 - true_negatives_3: 12167.0000 - recall_3: 0.6455 - precision_3: 0.6795 - binary_accuracy: 0.6705 - auc_3: 0.7297\n",
            "Epoch 20/100\n",
            "1094/1094 [==============================] - 3s 2ms/step - loss: 0.2877 - true_positives_3: 11364.0000 - false_negatives_3: 6127.0000 - false_positives_3: 5354.0000 - true_negatives_3: 12137.0000 - recall_3: 0.6497 - precision_3: 0.6797 - binary_accuracy: 0.6718 - auc_3: 0.7330\n",
            "Epoch 21/100\n",
            "1094/1094 [==============================] - 3s 2ms/step - loss: 0.2872 - true_positives_3: 11439.0000 - false_negatives_3: 6052.0000 - false_positives_3: 5441.0000 - true_negatives_3: 12050.0000 - recall_3: 0.6540 - precision_3: 0.6777 - binary_accuracy: 0.6715 - auc_3: 0.7367\n",
            "Epoch 22/100\n",
            "1094/1094 [==============================] - 4s 3ms/step - loss: 0.2865 - true_positives_3: 11592.0000 - false_negatives_3: 5899.0000 - false_positives_3: 5676.0000 - true_negatives_3: 11815.0000 - recall_3: 0.6627 - precision_3: 0.6713 - binary_accuracy: 0.6691 - auc_3: 0.7411\n",
            "Epoch 23/100\n",
            "1094/1094 [==============================] - 3s 2ms/step - loss: 0.2857 - true_positives_3: 11757.0000 - false_negatives_3: 5734.0000 - false_positives_3: 5756.0000 - true_negatives_3: 11735.0000 - recall_3: 0.6722 - precision_3: 0.6713 - binary_accuracy: 0.6715 - auc_3: 0.7455\n",
            "Epoch 24/100\n",
            "1094/1094 [==============================] - 3s 2ms/step - loss: 0.2847 - true_positives_3: 11943.0000 - false_negatives_3: 5548.0000 - false_positives_3: 5945.0000 - true_negatives_3: 11546.0000 - recall_3: 0.6828 - precision_3: 0.6677 - binary_accuracy: 0.6715 - auc_3: 0.7490\n",
            "Epoch 25/100\n",
            "1094/1094 [==============================] - 3s 2ms/step - loss: 0.2838 - true_positives_3: 12237.0000 - false_negatives_3: 5254.0000 - false_positives_3: 6166.0000 - true_negatives_3: 11325.0000 - recall_3: 0.6996 - precision_3: 0.6649 - binary_accuracy: 0.6735 - auc_3: 0.7519\n",
            "Epoch 26/100\n",
            "1094/1094 [==============================] - 3s 3ms/step - loss: 0.2831 - true_positives_3: 12386.0000 - false_negatives_3: 5105.0000 - false_positives_3: 6273.0000 - true_negatives_3: 11218.0000 - recall_3: 0.7081 - precision_3: 0.6638 - binary_accuracy: 0.6747 - auc_3: 0.7534\n",
            "Epoch 27/100\n",
            "1094/1094 [==============================] - 3s 3ms/step - loss: 0.2826 - true_positives_3: 12516.0000 - false_negatives_3: 4975.0000 - false_positives_3: 6396.0000 - true_negatives_3: 11095.0000 - recall_3: 0.7156 - precision_3: 0.6618 - binary_accuracy: 0.6749 - auc_3: 0.7552\n",
            "Epoch 28/100\n",
            "1094/1094 [==============================] - 3s 2ms/step - loss: 0.2821 - true_positives_3: 12785.0000 - false_negatives_3: 4706.0000 - false_positives_3: 6691.0000 - true_negatives_3: 10800.0000 - recall_3: 0.7309 - precision_3: 0.6564 - binary_accuracy: 0.6742 - auc_3: 0.7562\n",
            "Epoch 29/100\n",
            "1094/1094 [==============================] - 3s 2ms/step - loss: 0.2818 - true_positives_3: 12999.0000 - false_negatives_3: 4492.0000 - false_positives_3: 6896.0000 - true_negatives_3: 10595.0000 - recall_3: 0.7432 - precision_3: 0.6534 - binary_accuracy: 0.6745 - auc_3: 0.7571\n",
            "Epoch 30/100\n",
            "1094/1094 [==============================] - 3s 2ms/step - loss: 0.2815 - true_positives_3: 13090.0000 - false_negatives_3: 4401.0000 - false_positives_3: 7024.0000 - true_negatives_3: 10467.0000 - recall_3: 0.7484 - precision_3: 0.6508 - binary_accuracy: 0.6734 - auc_3: 0.7581\n",
            "Epoch 31/100\n",
            "1094/1094 [==============================] - 4s 3ms/step - loss: 0.2812 - true_positives_3: 13199.0000 - false_negatives_3: 4292.0000 - false_positives_3: 7139.0000 - true_negatives_3: 10352.0000 - recall_3: 0.7546 - precision_3: 0.6490 - binary_accuracy: 0.6732 - auc_3: 0.7591\n",
            "Epoch 32/100\n",
            "1094/1094 [==============================] - 3s 2ms/step - loss: 0.2807 - true_positives_3: 13217.0000 - false_negatives_3: 4274.0000 - false_positives_3: 7139.0000 - true_negatives_3: 10352.0000 - recall_3: 0.7556 - precision_3: 0.6493 - binary_accuracy: 0.6737 - auc_3: 0.7600\n",
            "Epoch 33/100\n",
            "1094/1094 [==============================] - 3s 2ms/step - loss: 0.2804 - true_positives_3: 13340.0000 - false_negatives_3: 4151.0000 - false_positives_3: 7357.0000 - true_negatives_3: 10134.0000 - recall_3: 0.7627 - precision_3: 0.6445 - binary_accuracy: 0.6710 - auc_3: 0.7606\n",
            "Epoch 34/100\n",
            "1094/1094 [==============================] - 3s 2ms/step - loss: 0.2801 - true_positives_3: 13383.0000 - false_negatives_3: 4108.0000 - false_positives_3: 7425.0000 - true_negatives_3: 10066.0000 - recall_3: 0.7651 - precision_3: 0.6432 - binary_accuracy: 0.6703 - auc_3: 0.7613\n",
            "Epoch 35/100\n",
            "1094/1094 [==============================] - 3s 3ms/step - loss: 0.2797 - true_positives_3: 13394.0000 - false_negatives_3: 4097.0000 - false_positives_3: 7397.0000 - true_negatives_3: 10094.0000 - recall_3: 0.7658 - precision_3: 0.6442 - binary_accuracy: 0.6714 - auc_3: 0.7622\n",
            "Epoch 36/100\n",
            "1094/1094 [==============================] - 3s 3ms/step - loss: 0.2794 - true_positives_3: 13503.0000 - false_negatives_3: 3988.0000 - false_positives_3: 7545.0000 - true_negatives_3: 9946.0000 - recall_3: 0.7720 - precision_3: 0.6415 - binary_accuracy: 0.6703 - auc_3: 0.7627\n",
            "Epoch 37/100\n",
            "1094/1094 [==============================] - 3s 2ms/step - loss: 0.2791 - true_positives_3: 13485.0000 - false_negatives_3: 4006.0000 - false_positives_3: 7522.0000 - true_negatives_3: 9969.0000 - recall_3: 0.7710 - precision_3: 0.6419 - binary_accuracy: 0.6705 - auc_3: 0.7635\n",
            "Epoch 38/100\n",
            "1094/1094 [==============================] - 3s 2ms/step - loss: 0.2789 - true_positives_3: 13585.0000 - false_negatives_3: 3906.0000 - false_positives_3: 7656.0000 - true_negatives_3: 9835.0000 - recall_3: 0.7767 - precision_3: 0.6396 - binary_accuracy: 0.6695 - auc_3: 0.7640\n",
            "Epoch 39/100\n",
            "1094/1094 [==============================] - 3s 2ms/step - loss: 0.2786 - true_positives_3: 13624.0000 - false_negatives_3: 3867.0000 - false_positives_3: 7701.0000 - true_negatives_3: 9790.0000 - recall_3: 0.7789 - precision_3: 0.6389 - binary_accuracy: 0.6693 - auc_3: 0.7643\n",
            "Epoch 40/100\n",
            "1094/1094 [==============================] - 4s 3ms/step - loss: 0.2784 - true_positives_3: 13634.0000 - false_negatives_3: 3857.0000 - false_positives_3: 7670.0000 - true_negatives_3: 9821.0000 - recall_3: 0.7795 - precision_3: 0.6400 - binary_accuracy: 0.6705 - auc_3: 0.7648\n",
            "Epoch 41/100\n",
            "1094/1094 [==============================] - 3s 2ms/step - loss: 0.2782 - true_positives_3: 13658.0000 - false_negatives_3: 3833.0000 - false_positives_3: 7713.0000 - true_negatives_3: 9778.0000 - recall_3: 0.7809 - precision_3: 0.6391 - binary_accuracy: 0.6699 - auc_3: 0.7652\n",
            "Epoch 42/100\n",
            "1094/1094 [==============================] - 3s 2ms/step - loss: 0.2781 - true_positives_3: 13716.0000 - false_negatives_3: 3775.0000 - false_positives_3: 7784.0000 - true_negatives_3: 9707.0000 - recall_3: 0.7842 - precision_3: 0.6380 - binary_accuracy: 0.6696 - auc_3: 0.7652\n",
            "Epoch 43/100\n",
            "1094/1094 [==============================] - 3s 2ms/step - loss: 0.2780 - true_positives_3: 13721.0000 - false_negatives_3: 3770.0000 - false_positives_3: 7810.0000 - true_negatives_3: 9681.0000 - recall_3: 0.7845 - precision_3: 0.6373 - binary_accuracy: 0.6690 - auc_3: 0.7654\n",
            "Epoch 44/100\n",
            "1094/1094 [==============================] - 4s 4ms/step - loss: 0.2779 - true_positives_3: 13792.0000 - false_negatives_3: 3699.0000 - false_positives_3: 7833.0000 - true_negatives_3: 9658.0000 - recall_3: 0.7885 - precision_3: 0.6378 - binary_accuracy: 0.6703 - auc_3: 0.7657\n",
            "Epoch 45/100\n",
            "1094/1094 [==============================] - 3s 3ms/step - loss: 0.2778 - true_positives_3: 13799.0000 - false_negatives_3: 3692.0000 - false_positives_3: 7804.0000 - true_negatives_3: 9687.0000 - recall_3: 0.7889 - precision_3: 0.6388 - binary_accuracy: 0.6714 - auc_3: 0.7661\n",
            "Epoch 46/100\n",
            "1094/1094 [==============================] - 3s 2ms/step - loss: 0.2777 - true_positives_3: 13879.0000 - false_negatives_3: 3612.0000 - false_positives_3: 7950.0000 - true_negatives_3: 9541.0000 - recall_3: 0.7935 - precision_3: 0.6358 - binary_accuracy: 0.6695 - auc_3: 0.7662\n",
            "Epoch 47/100\n",
            "1094/1094 [==============================] - 3s 2ms/step - loss: 0.2776 - true_positives_3: 13783.0000 - false_negatives_3: 3708.0000 - false_positives_3: 7817.0000 - true_negatives_3: 9674.0000 - recall_3: 0.7880 - precision_3: 0.6381 - binary_accuracy: 0.6705 - auc_3: 0.7664\n",
            "Epoch 48/100\n",
            "1094/1094 [==============================] - 3s 2ms/step - loss: 0.2776 - true_positives_3: 13852.0000 - false_negatives_3: 3639.0000 - false_positives_3: 7880.0000 - true_negatives_3: 9611.0000 - recall_3: 0.7920 - precision_3: 0.6374 - binary_accuracy: 0.6707 - auc_3: 0.7664\n",
            "Epoch 49/100\n",
            "1094/1094 [==============================] - 4s 3ms/step - loss: 0.2774 - true_positives_3: 13855.0000 - false_negatives_3: 3636.0000 - false_positives_3: 7947.0000 - true_negatives_3: 9544.0000 - recall_3: 0.7921 - precision_3: 0.6355 - binary_accuracy: 0.6689 - auc_3: 0.7667\n",
            "Epoch 50/100\n",
            "1094/1094 [==============================] - 3s 2ms/step - loss: 0.2773 - true_positives_3: 13894.0000 - false_negatives_3: 3597.0000 - false_positives_3: 7919.0000 - true_negatives_3: 9572.0000 - recall_3: 0.7944 - precision_3: 0.6370 - binary_accuracy: 0.6708 - auc_3: 0.7668\n",
            "Epoch 51/100\n",
            "1094/1094 [==============================] - 3s 2ms/step - loss: 0.2773 - true_positives_3: 13912.0000 - false_negatives_3: 3579.0000 - false_positives_3: 7927.0000 - true_negatives_3: 9564.0000 - recall_3: 0.7954 - precision_3: 0.6370 - binary_accuracy: 0.6711 - auc_3: 0.7670\n",
            "Epoch 52/100\n",
            "1094/1094 [==============================] - 3s 2ms/step - loss: 0.2772 - true_positives_3: 13838.0000 - false_negatives_3: 3653.0000 - false_positives_3: 7844.0000 - true_negatives_3: 9647.0000 - recall_3: 0.7911 - precision_3: 0.6382 - binary_accuracy: 0.6713 - auc_3: 0.7674\n",
            "Epoch 53/100\n",
            "1094/1094 [==============================] - 3s 3ms/step - loss: 0.2772 - true_positives_3: 13884.0000 - false_negatives_3: 3607.0000 - false_positives_3: 7930.0000 - true_negatives_3: 9561.0000 - recall_3: 0.7938 - precision_3: 0.6365 - binary_accuracy: 0.6702 - auc_3: 0.7674\n",
            "Epoch 54/100\n",
            "1094/1094 [==============================] - 3s 3ms/step - loss: 0.2771 - true_positives_3: 13913.0000 - false_negatives_3: 3578.0000 - false_positives_3: 7925.0000 - true_negatives_3: 9566.0000 - recall_3: 0.7954 - precision_3: 0.6371 - binary_accuracy: 0.6712 - auc_3: 0.7671\n",
            "Epoch 55/100\n",
            "1094/1094 [==============================] - 3s 2ms/step - loss: 0.2770 - true_positives_3: 13923.0000 - false_negatives_3: 3568.0000 - false_positives_3: 7936.0000 - true_negatives_3: 9555.0000 - recall_3: 0.7960 - precision_3: 0.6369 - binary_accuracy: 0.6711 - auc_3: 0.7677\n",
            "Epoch 56/100\n",
            "1094/1094 [==============================] - 3s 2ms/step - loss: 0.2770 - true_positives_3: 13924.0000 - false_negatives_3: 3567.0000 - false_positives_3: 7951.0000 - true_negatives_3: 9540.0000 - recall_3: 0.7961 - precision_3: 0.6365 - binary_accuracy: 0.6707 - auc_3: 0.7677\n",
            "Epoch 57/100\n",
            "1094/1094 [==============================] - 3s 2ms/step - loss: 0.2769 - true_positives_3: 13927.0000 - false_negatives_3: 3564.0000 - false_positives_3: 7930.0000 - true_negatives_3: 9561.0000 - recall_3: 0.7962 - precision_3: 0.6372 - binary_accuracy: 0.6714 - auc_3: 0.7679\n",
            "Epoch 58/100\n",
            "1094/1094 [==============================] - 4s 3ms/step - loss: 0.2769 - true_positives_3: 13903.0000 - false_negatives_3: 3588.0000 - false_positives_3: 7883.0000 - true_negatives_3: 9608.0000 - recall_3: 0.7949 - precision_3: 0.6382 - binary_accuracy: 0.6721 - auc_3: 0.7682\n",
            "Epoch 59/100\n",
            "1094/1094 [==============================] - 3s 2ms/step - loss: 0.2768 - true_positives_3: 13940.0000 - false_negatives_3: 3551.0000 - false_positives_3: 7996.0000 - true_negatives_3: 9495.0000 - recall_3: 0.7970 - precision_3: 0.6355 - binary_accuracy: 0.6699 - auc_3: 0.7680\n",
            "Epoch 60/100\n",
            "1094/1094 [==============================] - 3s 2ms/step - loss: 0.2767 - true_positives_3: 13950.0000 - false_negatives_3: 3541.0000 - false_positives_3: 7947.0000 - true_negatives_3: 9544.0000 - recall_3: 0.7976 - precision_3: 0.6371 - binary_accuracy: 0.6716 - auc_3: 0.7683\n",
            "Epoch 61/100\n",
            "1094/1094 [==============================] - 3s 2ms/step - loss: 0.2767 - true_positives_3: 13895.0000 - false_negatives_3: 3596.0000 - false_positives_3: 7889.0000 - true_negatives_3: 9602.0000 - recall_3: 0.7944 - precision_3: 0.6379 - binary_accuracy: 0.6717 - auc_3: 0.7685\n",
            "Epoch 62/100\n",
            "1094/1094 [==============================] - 3s 3ms/step - loss: 0.2766 - true_positives_3: 13918.0000 - false_negatives_3: 3573.0000 - false_positives_3: 7865.0000 - true_negatives_3: 9626.0000 - recall_3: 0.7957 - precision_3: 0.6389 - binary_accuracy: 0.6730 - auc_3: 0.7690\n",
            "Epoch 63/100\n",
            "1094/1094 [==============================] - 3s 3ms/step - loss: 0.2766 - true_positives_3: 13987.0000 - false_negatives_3: 3504.0000 - false_positives_3: 7945.0000 - true_negatives_3: 9546.0000 - recall_3: 0.7997 - precision_3: 0.6377 - binary_accuracy: 0.6727 - auc_3: 0.7689\n",
            "Epoch 64/100\n",
            "1094/1094 [==============================] - 3s 2ms/step - loss: 0.2764 - true_positives_3: 13944.0000 - false_negatives_3: 3547.0000 - false_positives_3: 7966.0000 - true_negatives_3: 9525.0000 - recall_3: 0.7972 - precision_3: 0.6364 - binary_accuracy: 0.6709 - auc_3: 0.7692\n",
            "Epoch 65/100\n",
            "1094/1094 [==============================] - 3s 2ms/step - loss: 0.2764 - true_positives_3: 13873.0000 - false_negatives_3: 3618.0000 - false_positives_3: 7812.0000 - true_negatives_3: 9679.0000 - recall_3: 0.7932 - precision_3: 0.6398 - binary_accuracy: 0.6733 - auc_3: 0.7695\n",
            "Epoch 66/100\n",
            "1094/1094 [==============================] - 3s 2ms/step - loss: 0.2764 - true_positives_3: 13987.0000 - false_negatives_3: 3504.0000 - false_positives_3: 7950.0000 - true_negatives_3: 9541.0000 - recall_3: 0.7997 - precision_3: 0.6376 - binary_accuracy: 0.6726 - auc_3: 0.7692\n",
            "Epoch 67/100\n",
            "1094/1094 [==============================] - 4s 3ms/step - loss: 0.2763 - true_positives_3: 13866.0000 - false_negatives_3: 3625.0000 - false_positives_3: 7810.0000 - true_negatives_3: 9681.0000 - recall_3: 0.7928 - precision_3: 0.6397 - binary_accuracy: 0.6731 - auc_3: 0.7698\n",
            "Epoch 68/100\n",
            "1094/1094 [==============================] - 3s 2ms/step - loss: 0.2762 - true_positives_3: 13955.0000 - false_negatives_3: 3536.0000 - false_positives_3: 7941.0000 - true_negatives_3: 9550.0000 - recall_3: 0.7978 - precision_3: 0.6373 - binary_accuracy: 0.6719 - auc_3: 0.7695\n",
            "Epoch 69/100\n",
            "1094/1094 [==============================] - 3s 2ms/step - loss: 0.2762 - true_positives_3: 13905.0000 - false_negatives_3: 3586.0000 - false_positives_3: 7902.0000 - true_negatives_3: 9589.0000 - recall_3: 0.7950 - precision_3: 0.6376 - binary_accuracy: 0.6716 - auc_3: 0.7699\n",
            "Epoch 70/100\n",
            "1094/1094 [==============================] - 3s 2ms/step - loss: 0.2762 - true_positives_3: 13909.0000 - false_negatives_3: 3582.0000 - false_positives_3: 7869.0000 - true_negatives_3: 9622.0000 - recall_3: 0.7952 - precision_3: 0.6387 - binary_accuracy: 0.6727 - auc_3: 0.7699\n",
            "Epoch 71/100\n",
            "1094/1094 [==============================] - 3s 3ms/step - loss: 0.2761 - true_positives_3: 13946.0000 - false_negatives_3: 3545.0000 - false_positives_3: 7852.0000 - true_negatives_3: 9639.0000 - recall_3: 0.7973 - precision_3: 0.6398 - binary_accuracy: 0.6742 - auc_3: 0.7701\n",
            "Epoch 72/100\n",
            "1094/1094 [==============================] - 3s 3ms/step - loss: 0.2760 - true_positives_3: 13927.0000 - false_negatives_3: 3564.0000 - false_positives_3: 7864.0000 - true_negatives_3: 9627.0000 - recall_3: 0.7962 - precision_3: 0.6391 - binary_accuracy: 0.6733 - auc_3: 0.7705\n",
            "Epoch 73/100\n",
            "1094/1094 [==============================] - 3s 3ms/step - loss: 0.2760 - true_positives_3: 13949.0000 - false_negatives_3: 3542.0000 - false_positives_3: 7906.0000 - true_negatives_3: 9585.0000 - recall_3: 0.7975 - precision_3: 0.6383 - binary_accuracy: 0.6727 - auc_3: 0.7705\n",
            "Epoch 74/100\n",
            "1094/1094 [==============================] - 3s 3ms/step - loss: 0.2760 - true_positives_3: 13918.0000 - false_negatives_3: 3573.0000 - false_positives_3: 7893.0000 - true_negatives_3: 9598.0000 - recall_3: 0.7957 - precision_3: 0.6381 - binary_accuracy: 0.6722 - auc_3: 0.7703\n",
            "Epoch 75/100\n",
            "1094/1094 [==============================] - 3s 3ms/step - loss: 0.2758 - true_positives_3: 13943.0000 - false_negatives_3: 3548.0000 - false_positives_3: 7883.0000 - true_negatives_3: 9608.0000 - recall_3: 0.7972 - precision_3: 0.6388 - binary_accuracy: 0.6732 - auc_3: 0.7707\n",
            "Epoch 76/100\n",
            "1094/1094 [==============================] - 4s 3ms/step - loss: 0.2758 - true_positives_3: 13942.0000 - false_negatives_3: 3549.0000 - false_positives_3: 7884.0000 - true_negatives_3: 9607.0000 - recall_3: 0.7971 - precision_3: 0.6388 - binary_accuracy: 0.6732 - auc_3: 0.7708\n",
            "Epoch 77/100\n",
            "1094/1094 [==============================] - 3s 2ms/step - loss: 0.2758 - true_positives_3: 13949.0000 - false_negatives_3: 3542.0000 - false_positives_3: 7892.0000 - true_negatives_3: 9599.0000 - recall_3: 0.7975 - precision_3: 0.6387 - binary_accuracy: 0.6731 - auc_3: 0.7708\n",
            "Epoch 78/100\n",
            "1094/1094 [==============================] - 3s 2ms/step - loss: 0.2758 - true_positives_3: 13923.0000 - false_negatives_3: 3568.0000 - false_positives_3: 7851.0000 - true_negatives_3: 9640.0000 - recall_3: 0.7960 - precision_3: 0.6394 - binary_accuracy: 0.6736 - auc_3: 0.7709\n",
            "Epoch 79/100\n",
            "1094/1094 [==============================] - 3s 2ms/step - loss: 0.2757 - true_positives_3: 13939.0000 - false_negatives_3: 3552.0000 - false_positives_3: 7867.0000 - true_negatives_3: 9624.0000 - recall_3: 0.7969 - precision_3: 0.6392 - binary_accuracy: 0.6736 - auc_3: 0.7712\n",
            "Epoch 80/100\n",
            "1094/1094 [==============================] - 4s 3ms/step - loss: 0.2756 - true_positives_3: 13952.0000 - false_negatives_3: 3539.0000 - false_positives_3: 7863.0000 - true_negatives_3: 9628.0000 - recall_3: 0.7977 - precision_3: 0.6396 - binary_accuracy: 0.6741 - auc_3: 0.7715\n",
            "Epoch 81/100\n",
            "1094/1094 [==============================] - 3s 3ms/step - loss: 0.2756 - true_positives_3: 13936.0000 - false_negatives_3: 3555.0000 - false_positives_3: 7836.0000 - true_negatives_3: 9655.0000 - recall_3: 0.7968 - precision_3: 0.6401 - binary_accuracy: 0.6744 - auc_3: 0.7715\n",
            "Epoch 82/100\n",
            "1094/1094 [==============================] - 3s 3ms/step - loss: 0.2755 - true_positives_3: 13944.0000 - false_negatives_3: 3547.0000 - false_positives_3: 7864.0000 - true_negatives_3: 9627.0000 - recall_3: 0.7972 - precision_3: 0.6394 - binary_accuracy: 0.6738 - auc_3: 0.7717\n",
            "Epoch 83/100\n",
            "1094/1094 [==============================] - 3s 3ms/step - loss: 0.2754 - true_positives_3: 13936.0000 - false_negatives_3: 3555.0000 - false_positives_3: 7833.0000 - true_negatives_3: 9658.0000 - recall_3: 0.7968 - precision_3: 0.6402 - binary_accuracy: 0.6745 - auc_3: 0.7717\n",
            "Epoch 84/100\n",
            "1094/1094 [==============================] - 3s 3ms/step - loss: 0.2754 - true_positives_3: 13932.0000 - false_negatives_3: 3559.0000 - false_positives_3: 7904.0000 - true_negatives_3: 9587.0000 - recall_3: 0.7965 - precision_3: 0.6380 - binary_accuracy: 0.6723 - auc_3: 0.7716\n",
            "Epoch 85/100\n",
            "1094/1094 [==============================] - 3s 3ms/step - loss: 0.2753 - true_positives_3: 13980.0000 - false_negatives_3: 3511.0000 - false_positives_3: 7938.0000 - true_negatives_3: 9553.0000 - recall_3: 0.7993 - precision_3: 0.6378 - binary_accuracy: 0.6727 - auc_3: 0.7722\n",
            "Epoch 86/100\n",
            "1094/1094 [==============================] - 3s 2ms/step - loss: 0.2753 - true_positives_3: 13885.0000 - false_negatives_3: 3606.0000 - false_positives_3: 7755.0000 - true_negatives_3: 9736.0000 - recall_3: 0.7938 - precision_3: 0.6416 - binary_accuracy: 0.6752 - auc_3: 0.7721\n",
            "Epoch 87/100\n",
            "1094/1094 [==============================] - 3s 3ms/step - loss: 0.2753 - true_positives_3: 13952.0000 - false_negatives_3: 3539.0000 - false_positives_3: 7882.0000 - true_negatives_3: 9609.0000 - recall_3: 0.7977 - precision_3: 0.6390 - binary_accuracy: 0.6735 - auc_3: 0.7723\n",
            "Epoch 88/100\n",
            "1094/1094 [==============================] - 3s 3ms/step - loss: 0.2753 - true_positives_3: 13963.0000 - false_negatives_3: 3528.0000 - false_positives_3: 7893.0000 - true_negatives_3: 9598.0000 - recall_3: 0.7983 - precision_3: 0.6389 - binary_accuracy: 0.6735 - auc_3: 0.7723\n",
            "Epoch 89/100\n",
            "1094/1094 [==============================] - 4s 4ms/step - loss: 0.2752 - true_positives_3: 13950.0000 - false_negatives_3: 3541.0000 - false_positives_3: 7829.0000 - true_negatives_3: 9662.0000 - recall_3: 0.7976 - precision_3: 0.6405 - binary_accuracy: 0.6750 - auc_3: 0.7725\n",
            "Epoch 90/100\n",
            "1094/1094 [==============================] - 3s 3ms/step - loss: 0.2751 - true_positives_3: 13987.0000 - false_negatives_3: 3504.0000 - false_positives_3: 7890.0000 - true_negatives_3: 9601.0000 - recall_3: 0.7997 - precision_3: 0.6393 - binary_accuracy: 0.6743 - auc_3: 0.7726\n",
            "Epoch 91/100\n",
            "1094/1094 [==============================] - 3s 3ms/step - loss: 0.2751 - true_positives_3: 13903.0000 - false_negatives_3: 3588.0000 - false_positives_3: 7803.0000 - true_negatives_3: 9688.0000 - recall_3: 0.7949 - precision_3: 0.6405 - binary_accuracy: 0.6744 - auc_3: 0.7727\n",
            "Epoch 92/100\n",
            "1094/1094 [==============================] - 3s 3ms/step - loss: 0.2750 - true_positives_3: 13976.0000 - false_negatives_3: 3515.0000 - false_positives_3: 7864.0000 - true_negatives_3: 9627.0000 - recall_3: 0.7990 - precision_3: 0.6399 - binary_accuracy: 0.6747 - auc_3: 0.7728\n",
            "Epoch 93/100\n",
            "1094/1094 [==============================] - 4s 4ms/step - loss: 0.2750 - true_positives_3: 13967.0000 - false_negatives_3: 3524.0000 - false_positives_3: 7841.0000 - true_negatives_3: 9650.0000 - recall_3: 0.7985 - precision_3: 0.6405 - binary_accuracy: 0.6751 - auc_3: 0.7730\n",
            "Epoch 94/100\n",
            "1094/1094 [==============================] - 3s 2ms/step - loss: 0.2750 - true_positives_3: 14005.0000 - false_negatives_3: 3486.0000 - false_positives_3: 7802.0000 - true_negatives_3: 9689.0000 - recall_3: 0.8007 - precision_3: 0.6422 - binary_accuracy: 0.6773 - auc_3: 0.7732\n",
            "Epoch 95/100\n",
            "1094/1094 [==============================] - 3s 3ms/step - loss: 0.2749 - true_positives_3: 13903.0000 - false_negatives_3: 3588.0000 - false_positives_3: 7794.0000 - true_negatives_3: 9697.0000 - recall_3: 0.7949 - precision_3: 0.6408 - binary_accuracy: 0.6746 - auc_3: 0.7732\n",
            "Epoch 96/100\n",
            "1094/1094 [==============================] - 3s 3ms/step - loss: 0.2748 - true_positives_3: 13979.0000 - false_negatives_3: 3512.0000 - false_positives_3: 7819.0000 - true_negatives_3: 9672.0000 - recall_3: 0.7992 - precision_3: 0.6413 - binary_accuracy: 0.6761 - auc_3: 0.7733\n",
            "Epoch 97/100\n",
            "1094/1094 [==============================] - 4s 4ms/step - loss: 0.2748 - true_positives_3: 13963.0000 - false_negatives_3: 3528.0000 - false_positives_3: 7840.0000 - true_negatives_3: 9651.0000 - recall_3: 0.7983 - precision_3: 0.6404 - binary_accuracy: 0.6750 - auc_3: 0.7734\n",
            "Epoch 98/100\n",
            "1094/1094 [==============================] - 3s 3ms/step - loss: 0.2748 - true_positives_3: 13916.0000 - false_negatives_3: 3575.0000 - false_positives_3: 7732.0000 - true_negatives_3: 9759.0000 - recall_3: 0.7956 - precision_3: 0.6428 - binary_accuracy: 0.6768 - auc_3: 0.7738\n",
            "Epoch 99/100\n",
            "1094/1094 [==============================] - 3s 3ms/step - loss: 0.2747 - true_positives_3: 13943.0000 - false_negatives_3: 3548.0000 - false_positives_3: 7755.0000 - true_negatives_3: 9736.0000 - recall_3: 0.7972 - precision_3: 0.6426 - binary_accuracy: 0.6769 - auc_3: 0.7740\n",
            "Epoch 100/100\n",
            "1094/1094 [==============================] - 3s 3ms/step - loss: 0.2746 - true_positives_3: 13996.0000 - false_negatives_3: 3495.0000 - false_positives_3: 7847.0000 - true_negatives_3: 9644.0000 - recall_3: 0.8002 - precision_3: 0.6408 - binary_accuracy: 0.6758 - auc_3: 0.7740\n"
          ]
        }
      ]
    },
    {
      "cell_type": "code",
      "source": [
        "results = model.evaluate(X_test, Y_test)"
      ],
      "metadata": {
        "colab": {
          "base_uri": "https://localhost:8080/"
        },
        "id": "dfyR-l6brN6r",
        "outputId": "71928aa4-cfba-4f97-89cd-fd7c4615d8c0"
      },
      "execution_count": 23,
      "outputs": [
        {
          "output_type": "stream",
          "name": "stdout",
          "text": [
            "368/368 [==============================] - 1s 2ms/step - loss: 0.5901 - true_positives_3: 4854.0000 - false_negatives_3: 1019.0000 - false_positives_3: 2857.0000 - true_negatives_3: 3016.0000 - recall_3: 0.8265 - precision_3: 0.6295 - binary_accuracy: 0.6700 - auc_3: 0.7707\n"
          ]
        }
      ]
    },
    {
      "cell_type": "code",
      "source": [
        "!mkdir -p saved_model\n",
        "model.save('saved_model/my_model')"
      ],
      "metadata": {
        "colab": {
          "base_uri": "https://localhost:8080/"
        },
        "id": "4n0zJJzOrUa_",
        "outputId": "bdd6662f-b49c-4b96-92fc-8f9d66f654c1"
      },
      "execution_count": 26,
      "outputs": [
        {
          "output_type": "stream",
          "name": "stderr",
          "text": [
            "WARNING:absl:Found untraced functions such as _update_step_xla while saving (showing 1 of 1). These functions will not be directly callable after loading.\n"
          ]
        }
      ]
    },
    {
      "cell_type": "code",
      "source": [
        "model_json = model.to_json()\n",
        "with open(\"model.json\", \"w\") as json_file:\n",
        "    json_file.write(model_json)\n",
        "# serialize weights to HDF5\n",
        "model.save_weights(\"model.h5\")\n",
        "print(\"Saved model to disk\")"
      ],
      "metadata": {
        "colab": {
          "base_uri": "https://localhost:8080/"
        },
        "id": "yafNGlKqrdJB",
        "outputId": "6dbbec31-5335-4bd6-f5ad-6f3c53e3b7b2"
      },
      "execution_count": 27,
      "outputs": [
        {
          "output_type": "stream",
          "name": "stdout",
          "text": [
            "Saved model to disk\n"
          ]
        }
      ]
    },
    {
      "cell_type": "code",
      "source": [
        "model.save('saved_model/my_model')"
      ],
      "metadata": {
        "colab": {
          "base_uri": "https://localhost:8080/"
        },
        "id": "MPQIDrTlrj4h",
        "outputId": "8563e0ec-6617-4e48-ffb0-a9af2a5f2125"
      },
      "execution_count": 28,
      "outputs": [
        {
          "output_type": "stream",
          "name": "stderr",
          "text": [
            "WARNING:absl:Found untraced functions such as _update_step_xla while saving (showing 1 of 1). These functions will not be directly callable after loading.\n"
          ]
        }
      ]
    },
    {
      "cell_type": "code",
      "source": [
        "from sklearn.metrics import roc_curve\n",
        "Y_pred = model.predict(X_test).ravel()\n",
        "fpr, tpr, threshold = roc_curve(Y_test, Y_pred)\n",
        "plt.plot(fpr, tpr)\n",
        "plt.title(\"ROC Curve\")\n",
        "plt.xlabel(\"False Positive Rate\")\n",
        "plt.ylabel(\"True Positive Rate\")"
      ],
      "metadata": {
        "colab": {
          "base_uri": "https://localhost:8080/",
          "height": 504
        },
        "id": "ph01GlO2zSaP",
        "outputId": "46b7be62-998a-448a-da09-03bef5f643e5"
      },
      "execution_count": 29,
      "outputs": [
        {
          "output_type": "stream",
          "name": "stdout",
          "text": [
            "368/368 [==============================] - 1s 3ms/step\n"
          ]
        },
        {
          "output_type": "execute_result",
          "data": {
            "text/plain": [
              "Text(0, 0.5, 'True Positive Rate')"
            ]
          },
          "metadata": {},
          "execution_count": 29
        },
        {
          "output_type": "display_data",
          "data": {
            "text/plain": [
              "<Figure size 640x480 with 1 Axes>"
            ],
            "image/png": "[encoded data removed]"
          },
          "metadata": {}
        }
      ]
    },
    {
      "cell_type": "code",
      "source": [
        "plt.plot(threshold, tpr-fpr)"
      ],
      "metadata": {
        "colab": {
          "base_uri": "https://localhost:8080/",
          "height": 445
        },
        "id": "ip3_nDmN02Xs",
        "outputId": "d5299e26-62cd-4102-8624-5addfd1f4729"
      },
      "execution_count": 30,
      "outputs": [
        {
          "output_type": "execute_result",
          "data": {
            "text/plain": [
              "[<matplotlib.lines.Line2D at 0x7f3b624a1420>]"
            ]
          },
          "metadata": {},
          "execution_count": 30
        },
        {
          "output_type": "display_data",
          "data": {
            "text/plain": [
              "<Figure size 640x480 with 1 Axes>"
            ],
            "image/png": "[encoded data removed]"
          },
          "metadata": {}
        }
      ]
    },
    {
      "cell_type": "code",
      "source": [
        "YJI = threshold[np.argmax(tpr-fpr)]"
      ],
      "metadata": {
        "id": "uGRxVYoQ07AI"
      },
      "execution_count": 31,
      "outputs": []
    },
    {
      "cell_type": "code",
      "source": [
        "print(YJI) #optimum threshold value using Youden's J Statistic"
      ],
      "metadata": {
        "colab": {
          "base_uri": "https://localhost:8080/"
        },
        "id": "hC_tkJfc1Ann",
        "outputId": "3287cbe2-52ba-424a-b43a-b91a30b6f669"
      },
      "execution_count": 33,
      "outputs": [
        {
          "output_type": "stream",
          "name": "stdout",
          "text": [
            "0.59442115\n"
          ]
        }
      ]
    },
    {
      "cell_type": "code",
      "source": [
        "print(tpr[np.argmax(tpr-fpr)], fpr[np.argmax(tpr-fpr)])"
      ],
      "metadata": {
        "colab": {
          "base_uri": "https://localhost:8080/"
        },
        "id": "_5pza_cBr6_j",
        "outputId": "7471b5ef-201f-4407-cd02-d4965e57d3ea"
      },
      "execution_count": 34,
      "outputs": [
        {
          "output_type": "stream",
          "name": "stdout",
          "text": [
            "0.6453260684488337 0.24450876894261878\n"
          ]
        }
      ]
    },
    {
      "cell_type": "code",
      "source": [
        "Y_pred = model.predict(X_test)"
      ],
      "metadata": {
        "colab": {
          "base_uri": "https://localhost:8080/"
        },
        "id": "gTYIb5af1EaC",
        "outputId": "7d105da7-fc6f-4d97-b6bf-5c0365ed4ba3"
      },
      "execution_count": 35,
      "outputs": [
        {
          "output_type": "stream",
          "name": "stdout",
          "text": [
            "368/368 [==============================] - 1s 2ms/step\n"
          ]
        }
      ]
    },
    {
      "cell_type": "code",
      "source": [
        "credit = 850 - 550*Y_pred"
      ],
      "metadata": {
        "id": "-u5EfvgPr_yr"
      },
      "execution_count": 36,
      "outputs": []
    },
    {
      "cell_type": "code",
      "source": [
        "credit"
      ],
      "metadata": {
        "colab": {
          "base_uri": "https://localhost:8080/"
        },
        "id": "W97sHdhysC1z",
        "outputId": "3c4d8e75-3225-4a75-fbe0-21e9d9973324"
      },
      "execution_count": 37,
      "outputs": [
        {
          "output_type": "execute_result",
          "data": {
            "text/plain": [
              "array([[501.08377],\n",
              "       [632.834  ],\n",
              "       [561.69556],\n",
              "       ...,\n",
              "       [432.99026],\n",
              "       [349.83817],\n",
              "       [332.12592]], dtype=float32)"
            ]
          },
          "metadata": {},
          "execution_count": 37
        }
      ]
    },
    {
      "cell_type": "code",
      "source": [
        "credit.shape"
      ],
      "metadata": {
        "colab": {
          "base_uri": "https://localhost:8080/"
        },
        "id": "5OnyMds8sE1_",
        "outputId": "b348fa71-76f3-411b-d43d-dae52f9bc0e0"
      },
      "execution_count": 38,
      "outputs": [
        {
          "output_type": "execute_result",
          "data": {
            "text/plain": [
              "(11746, 1)"
            ]
          },
          "metadata": {},
          "execution_count": 38
        }
      ]
    },
    {
      "cell_type": "code",
      "source": [
        "idx = 11646\n",
        "print(\"Default Status: \",Y_test[idx], \" Credit Score : \", credit[idx],\" Probability of Default: \", Y_pred[idx])"
      ],
      "metadata": {
        "colab": {
          "base_uri": "https://localhost:8080/"
        },
        "id": "PpfQHo7ksGuN",
        "outputId": "b27245ea-7f26-47bf-cede-9f6cf0ca2a31"
      },
      "execution_count": 39,
      "outputs": [
        {
          "output_type": "stream",
          "name": "stdout",
          "text": [
            "Default Status:  1.0  Credit Score :  [599.21875]  Probability of Default:  [0.4559659]\n"
          ]
        }
      ]
    }
  ]
}
